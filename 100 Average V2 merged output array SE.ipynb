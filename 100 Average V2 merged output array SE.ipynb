{
 "cells": [
  {
   "cell_type": "code",
   "execution_count": 2,
   "id": "0bc57f8c",
   "metadata": {},
   "outputs": [],
   "source": [
    "import numpy as np\n",
    "import pandas as pd\n",
    "\n",
    "# machine learning\n",
    "from sklearn.linear_model import LogisticRegression\n",
    "from sklearn.linear_model import LinearRegression\n",
    "from sklearn.svm import SVC, LinearSVC\n",
    "from sklearn.ensemble import RandomForestClassifier\n",
    "from sklearn.neighbors import KNeighborsClassifier\n",
    "from sklearn.naive_bayes import GaussianNB\n",
    "from sklearn.linear_model import Perceptron\n",
    "from sklearn.linear_model import SGDClassifier\n",
    "from sklearn.tree import DecisionTreeClassifier\n",
    "from sklearn.model_selection import train_test_split , cross_val_score\n",
    "from sklearn.neighbors import KNeighborsRegressor\n",
    "from sklearn.metrics import mean_squared_error\n",
    "\n",
    "# visualization\n",
    "import matplotlib.pyplot as plt\n",
    "import seaborn as sns\n",
    "%matplotlib inline\n",
    "\n",
    "# UMAP\n",
    "import umap\n",
    "from sklearn.decomposition import PCA\n",
    "from sklearn.decomposition import KernelPCA\n",
    "from sklearn.manifold import TSNE"
   ]
  },
  {
   "cell_type": "code",
   "execution_count": 3,
   "id": "d90385f3",
   "metadata": {},
   "outputs": [],
   "source": [
    "# Set random seed\n",
    "# np.random.seed(2024)"
   ]
  },
  {
   "cell_type": "code",
   "execution_count": 4,
   "id": "1ee3491d-8242-4109-b638-a918fd434c41",
   "metadata": {},
   "outputs": [],
   "source": [
    "# Function to generate data for Scenario A\n",
    "def generate_X_a(num_samples, p):\n",
    "    return np.random.normal(0, 1, (num_samples, p))\n",
    "\n",
    "# Function to generate data for Scenario B\n",
    "def generate_X_b(num_samples, p):\n",
    "    X1 = np.random.normal(-1, 1, (num_samples // 2, p))\n",
    "    X2 = np.random.normal(1, 1, (num_samples // 2, p))\n",
    "    X = np.vstack((X1,X2))\n",
    "    np.random.shuffle(X)\n",
    "    return X\n",
    "\n",
    "# Function to generate data for Scenario C\n",
    "def generate_X_c(num_samples, p):\n",
    "    mean = np.zeros(p)\n",
    "    cov = 0.6 * np.eye(p) + 0.4 * np.ones((p, p))\n",
    "    return np.random.multivariate_normal(mean, cov, num_samples)\n",
    "\n",
    "\n",
    "# Function to generate responses for each model\n",
    "def generate_responses(X, subset, epsilon):\n",
    "    \n",
    "    # Model I\n",
    "    sum_squares = np.sum(X[:, :subset]**2, axis=1)\n",
    "    Y1 = np.sqrt(sum_squares) * np.log(np.sqrt(sum_squares)) + epsilon\n",
    "    \n",
    "    # Model II\n",
    "    terms = [(X[:, i] / (1 + np.exp(X[:, i + 1]))) for i in range(int(subset))]\n",
    "    Y2 = np.sum(terms, axis=0) + epsilon\n",
    "    \n",
    "    # Model III\n",
    "    sum = np.sum(X[:, :10], axis=1)\n",
    "    Y3 = np.sin((np.pi * sum_squares) / 10) + epsilon\n",
    "    \n",
    "    return Y1, Y2, Y3\n",
    "# Set the number of subsets related to responses\n",
    "#Generate a transforming function\n",
    "def generate_df(X,Y1,Y2,Y3):\n",
    "    df = pd.DataFrame(X, columns = columns)\n",
    "    df['Y1'] = Y1\n",
    "    df['Y2'] = Y2\n",
    "    df['Y3'] = Y3\n",
    "    return df \n",
    "\n",
    "### Sliced Inversed Regression\n",
    "import statsmodels.api as sm\n",
    "\n",
    "from sklearn.base import BaseEstimator, TransformerMixin\n",
    "from sklearn.utils.validation import check_is_fitted\n",
    "\n",
    "class SlicedInverseRegression(BaseEstimator, TransformerMixin):\n",
    "    def __init__(self, n_directions=2, n_slices=10):\n",
    "        self.n_directions = n_directions\n",
    "        self.n_slices = n_slices\n",
    "\n",
    "    def fit(self, X, y):\n",
    "        n_samples = X.shape[0]\n",
    "        self.X_mean_ = np.mean(X, axis=0)\n",
    "\n",
    "        # Center X\n",
    "        X_centered = X - self.X_mean_\n",
    "\n",
    "        # Slice y and compute the slice means of X\n",
    "        sorted_indices = np.argsort(y)\n",
    "        slice_size = n_samples // self.n_slices\n",
    "\n",
    "        M = np.zeros((X.shape[1], X.shape[1]))\n",
    "        for i in range(self.n_slices):\n",
    "            slice_indices = sorted_indices[i * slice_size:(i + 1) * slice_size]\n",
    "            X_slice = X_centered[slice_indices]\n",
    "            slice_mean = np.mean(X_slice, axis=0)\n",
    "            M += slice_size * np.outer(slice_mean, slice_mean)\n",
    "\n",
    "        # Eigen decomposition\n",
    "        eigvals, eigvecs = np.linalg.eigh(M)\n",
    "        self.directions_ = eigvecs[:, -self.n_directions:]\n",
    "\n",
    "        return self\n",
    "\n",
    "    def transform(self, X):\n",
    "        check_is_fitted(self, 'directions_')\n",
    "        return np.dot(X - self.X_mean_, self.directions_)\n",
    "\n",
    "### Kernel Sliced Inversed Regression\n",
    "import numpy as np\n",
    "from scipy.linalg import eigh\n",
    "from sklearn.metrics.pairwise import rbf_kernel\n",
    "\n",
    "class KernelSIR:\n",
    "    def __init__(self, num_components=2, n_slices=10, gamma=0.1):\n",
    "        self.num_components = num_components\n",
    "        self.n_slices = n_slices\n",
    "        self.gamma = gamma\n",
    "        self.W = None\n",
    "\n",
    "    def fit(self, X, y):\n",
    "        # Compute the kernel matrix\n",
    "        K = self.compute_kernel(X)\n",
    "        \n",
    "        # Slice the data based on the response variable y\n",
    "        slices = self.slice_data(y)\n",
    "        \n",
    "        # Compute the kernel SIR matrix\n",
    "        M = self.kernel_sir_matrix(K, slices)\n",
    "        \n",
    "        # Eigen decomposition to get the projection matrix W\n",
    "        self.W = self.eig_decomposition(M)\n",
    "        \n",
    "    def transform(self, X):\n",
    "        if self.W is None:\n",
    "            raise ValueError(\"The model has not been fitted yet. Call 'fit' with appropriate arguments before using this method.\")\n",
    "        # Compute the kernel matrix for the new data\n",
    "        K = self.compute_kernel(X)\n",
    "        # Transform the data using the projection matrix W\n",
    "        return np.dot(K, self.W)\n",
    "    \n",
    "    def fit_transform(self, X, y):\n",
    "        self.fit(X, y)\n",
    "        return self.transform(X)\n",
    "    \n",
    "    def compute_kernel(self, X):\n",
    "        return rbf_kernel(X, gamma=self.gamma)\n",
    "\n",
    "    def slice_data(self, y):\n",
    "        y = np.asarray(y)\n",
    "        n = len(y)\n",
    "        sorted_indices = np.argsort(y)\n",
    "        slices = np.array_split(sorted_indices, self.n_slices)\n",
    "        return slices\n",
    "\n",
    "    def kernel_sir_matrix(self, K, slices):\n",
    "        n = K.shape[0]\n",
    "        N_h = np.zeros(len(slices))\n",
    "        M_h = np.zeros((n, n))\n",
    "        \n",
    "        for h, indices in enumerate(slices):\n",
    "            N_h[h] = len(indices)\n",
    "            K_h = K[indices, :]\n",
    "            K_h_mean = np.mean(K_h, axis=0)\n",
    "            M_h += (N_h[h] / n) * np.outer(K_h_mean, K_h_mean)\n",
    "        \n",
    "        K_mean = np.mean(K, axis=0)\n",
    "        M = M_h - np.outer(K_mean, K_mean)\n",
    "        \n",
    "        return M\n",
    "\n",
    "    def eig_decomposition(self, M):\n",
    "        eigvals, eigvecs = eigh(M)\n",
    "        sorted_indices = np.argsort(eigvals)[::-1]\n",
    "        top_eigvecs = eigvecs[:, sorted_indices[:self.num_components]]\n",
    "        return top_eigvecs\n",
    "\n",
    "#Generate a fuction to calculate the knn score\n",
    "def knnmse(X_train,y_train,X_test,y_test):\n",
    "    \n",
    "    knn_regressor = KNeighborsRegressor(n_neighbors=3)\n",
    "    knn_regressor.fit(X_train, y_train)\n",
    "    \n",
    "    y_pred_train = knn_regressor.predict(X_train)\n",
    "    mse_train = round(mean_squared_error(y_train, y_pred_train),3)\n",
    "\n",
    "    y_pred_test = knn_regressor.predict(X_test)\n",
    "    mse_test = round(mean_squared_error(y_test, y_pred_test),3)\n",
    "    \n",
    "    return [mse_train, mse_test]"
   ]
  },
  {
   "cell_type": "code",
   "execution_count": 5,
   "id": "a100e66b-23b2-4360-90c9-c753fb404616",
   "metadata": {},
   "outputs": [],
   "source": [
    "# Number of samples, dimensions, and relative features to Responses\n",
    "num_samples = 1000\n",
    "p = 500\n",
    "subset = 10\n",
    "# Noise term\n",
    "epsilon = np.random.normal(0, np.sqrt(0.25), num_samples)\n",
    "# Transform np.array into dataframe\n",
    "columns= [f'feature{i+1}' for i in range(p)]"
   ]
  },
  {
   "cell_type": "code",
   "execution_count": 6,
   "id": "4f0dbab4-18ae-48b8-8a27-c55756265947",
   "metadata": {},
   "outputs": [],
   "source": [
    "def run_models():\n",
    "    ### Data simulation\n",
    "    # Generate data for each scenario\n",
    "    X_a = generate_X_a(num_samples, p)\n",
    "    X_b = generate_X_b(num_samples, p)\n",
    "    X_c = generate_X_c(num_samples, p)\n",
    "     \n",
    "    # Generate responses for Xs in each scenario\n",
    "    Y_a1, Y_a2, Y_a3 = generate_responses(X_a,subset, epsilon)\n",
    "    Y_b1, Y_b2, Y_b3 = generate_responses(X_b,subset, epsilon)\n",
    "    Y_c1, Y_c2, Y_c3 = generate_responses(X_c, subset,epsilon)\n",
    "    \n",
    "    # Combine the data\n",
    "    data_a = np.column_stack((X_a, Y_a1, Y_a2, Y_a3))\n",
    "    data_b = np.column_stack((X_b, Y_b1, Y_b2, Y_b3))\n",
    "    data_c = np.column_stack((X_c, Y_c1, Y_c2, Y_c3))\n",
    "    \n",
    "    \n",
    "    # Transform array Xs with three of their responses into one dataframe.\n",
    "    df_a = generate_df(X_a,Y_a1, Y_a2, Y_a3)\n",
    "    df_b = generate_df(X_b,Y_b1, Y_b2, Y_b3)\n",
    "    df_c = generate_df(X_c,Y_c1, Y_c2, Y_c3)\n",
    "    \n",
    "    dfs = [df_a,df_b,df_c]\n",
    "    \n",
    "    # Proprocess the dataset, and cut the continuous response into 10 slices. Separate\n",
    "    # these datasets into training and testing parts.\n",
    "    \n",
    "    # Initialize lists of functional groups to keep separated parts of all the datasets\n",
    "    Ys =['Y1','Y2','Y3']\n",
    "    \n",
    "    Xs=[]\n",
    "    \n",
    "    X_trains = []\n",
    "    \n",
    "    X_tests = []\n",
    "    \n",
    "    y_sli_trains = []\n",
    "    \n",
    "    y_sli_tests = []\n",
    "    \n",
    "    y_orig_trains = []\n",
    "    \n",
    "    y_orig_tests = []\n",
    "    \n",
    "    y_mean_trains = []\n",
    "    \n",
    "    y_mean_tests = []\n",
    "    \n",
    "    y_means = []\n",
    "    \n",
    "    for df in dfs:\n",
    "        X = df.drop(['Y1','Y2','Y3'],axis=1)\n",
    "        Xs.append(X)\n",
    "        for response in Ys:\n",
    "            ## The first four lines cut responses into 5 slices for further experiment.\n",
    "            df[f'{response}_sli'] = pd.qcut(df[response], q=5, labels=False)\n",
    "            y = df[f'{response}_sli'].values.flatten()\n",
    "            X_train, X_test, y_sli_train, y_sli_test, train_indices, test_indices =\\\n",
    "            train_test_split(X, y, df.index, test_size=0.5)\n",
    "            ## The end of the slices cut.\n",
    "            y_orig_train = df[response].iloc[train_indices]\n",
    "            y_orig_test = df[response].iloc[test_indices]\n",
    "            y_mean_train = round(df[response].iloc[train_indices].mean(),3)\n",
    "            y_mean_test = round(df[response].iloc[test_indices].mean(),3)\n",
    "            y_mean = round(df[response].mean(),3)\n",
    "            \n",
    "            X_trains.append(X_train)\n",
    "            X_tests.append(X_test)\n",
    "            y_sli_trains.append(y_sli_train)\n",
    "            y_sli_tests.append(y_sli_test)\n",
    "            y_orig_trains.append(y_orig_train)\n",
    "            y_orig_tests.append(y_orig_test)\n",
    "            y_mean_trains.append(y_mean_train)\n",
    "            y_mean_tests.append(y_mean_test)\n",
    "            y_means.append(y_mean)\n",
    "    \n",
    "    ## Supervised UMAP model with sliced responses\n",
    "    \n",
    "    # Initialize supervised UMAP\n",
    "    n_neighbors = 5\n",
    "    umap_mod = umap.UMAP(n_neighbors=n_neighbors)\n",
    "    \n",
    "    # Fit and Transform three dataset\n",
    "    train_ems = []\n",
    "    test_ems = []\n",
    "    for i in range(len(X_trains)):\n",
    "        umap_train = umap_mod.fit_transform(X_trains[i],y_sli_trains[i])\n",
    "        umap_test = umap_mod.transform(X_tests[i])\n",
    "        \n",
    "        train_ems.append(umap_train)\n",
    "        test_ems.append(umap_test)\n",
    "    \n",
    "\n",
    "    \n",
    "    # Initialize lists to store the mse s\n",
    "    org_mses = []\n",
    "    umap_sup_mses = []\n",
    "    test_mse = []\n",
    "    train_mse = []\n",
    "    \n",
    "    # The first two groups stored in the lists are ori and sup umap, each group has nine items for nine datasets\n",
    "    # Loop through the data and calculate the mse s\n",
    "    for i in range(len(X_trains)):\n",
    "        org_mse = knnmse(X_trains[i], y_orig_trains[i], X_tests[i], y_orig_tests[i])\n",
    "        \n",
    "        org_mses.append(org_mse)\n",
    "        test_mse.append(org_mse[1])\n",
    "        train_mse.append(org_mse[0])\n",
    "\n",
    "  \n",
    "    \n",
    "    for i in range(len(X_trains)):\n",
    "        umap_sup_mse = knnmse(train_ems[i], y_orig_trains[i], test_ems[i], y_orig_tests[i])\n",
    "        \n",
    "        umap_sup_mses.append(umap_sup_mse)\n",
    "        test_mse.append(umap_sup_mse[1])\n",
    "        train_mse.append(umap_sup_mse[0])\n",
    "        \n",
    "    \n",
    "    ### Supervised UMAP treating response as a categorical variable by default.\n",
    "    \n",
    "    conti_train_ems = []\n",
    "    conti_test_ems = []\n",
    "    for i in range(len(X_trains)):\n",
    "        umap_train = umap_mod.fit_transform(X_trains[i],y_orig_trains[i])\n",
    "        umap_test = umap_mod.transform(X_tests[i])\n",
    "        \n",
    "        conti_train_ems.append(umap_train)\n",
    "        conti_test_ems.append(umap_test)\n",
    "    \n",
    "    # Initialize lists to store the scores\n",
    "    umap_sup_cont_mses = []\n",
    "    \n",
    "    # Loop through the data and calculate the scores\n",
    "    for i in range(len(X_trains)):\n",
    "        umap_sup_cont_mse = knnmse(conti_train_ems[i], y_orig_trains[i], conti_test_ems[i], y_orig_tests[i])\n",
    "        \n",
    "        umap_sup_cont_mses.append(umap_sup_cont_mse)\n",
    "        \n",
    "        test_mse.append(umap_sup_cont_mse[1])\n",
    "        train_mse.append(umap_sup_cont_mse[0])\n",
    "    \n",
    "    \n",
    "    \n",
    "    ### Continuous response with targer_metrics setting                             \n",
    "    \n",
    "\n",
    "\n",
    "\n",
    "\n",
    "    conti_train_ems1 = []\n",
    "    conti_test_ems1 = []\n",
    "    umap_mod1 = umap.UMAP(n_neighbors=n_neighbors,target_metric='l2')\n",
    "    for i in range(len(X_trains)):\n",
    "        umap_train = umap_mod1.fit_transform(X_trains[i],y_orig_trains[i])\n",
    "        umap_test = umap_mod1.transform(X_tests[i])\n",
    "        \n",
    "        conti_train_ems1.append(umap_train)\n",
    "        conti_test_ems1.append(umap_test)\n",
    "    \n",
    "    # Initialize lists to store the scores\n",
    "    umap_sup_cont_mses1 = []\n",
    "    \n",
    "    # Loop through the data and calculate the scores\n",
    "    for i in range(len(X_trains)):\n",
    "        umap_sup_cont_mse1 = knnmse(conti_train_ems1[i], y_orig_trains[i], conti_test_ems1[i], y_orig_tests[i])\n",
    "        \n",
    "        umap_sup_cont_mses1.append(umap_sup_cont_mse1)\n",
    "        test_mse.append(umap_sup_cont_mse1[1])\n",
    "        train_mse.append(umap_sup_cont_mse1[0])\n",
    "    \n",
    "        \n",
    "    \n",
    "    ### Unsupervise UMAP Model\n",
    "    \n",
    "    # Perform Unsupervised UMAP\n",
    "    # Fit and Transform \n",
    "    un_train_ems = []\n",
    "    un_test_ems = []\n",
    "    for i in range(len(X_trains)):\n",
    "        umap_train = umap_mod.fit_transform(X_trains[i])\n",
    "        umap_test = umap_mod.transform(X_tests[i])\n",
    "        \n",
    "        un_train_ems.append(umap_train)\n",
    "        un_test_ems.append(umap_test)\n",
    "    \n",
    "    # Initialize lists to store the scores\n",
    "    umap_unsup_mses = []\n",
    "    \n",
    "    # Loop through the data and calculate the scores\n",
    "    for i in range(len(X_trains)):\n",
    "        umap_unsup_mse = knnmse(un_train_ems[i], y_orig_trains[i], un_test_ems[i], y_orig_tests[i])\n",
    "        \n",
    "        umap_unsup_mses.append(umap_unsup_mse)\n",
    "        test_mse.append(umap_unsup_mse[1])\n",
    "        train_mse.append(umap_unsup_mse[0])\n",
    "    \n",
    "    ### PCA\n",
    "    \n",
    "    # Initialize PCA\n",
    "    pca = PCA(n_components=2)\n",
    "    \n",
    "    # Fit and Transform three dataset\n",
    "    pca_trains = []\n",
    "    pca_tests = []\n",
    "    for i in range(len(X_trains)):\n",
    "        pca_train = pca.fit_transform(X_trains[i])\n",
    "        pca_test = pca.transform(X_tests[i])\n",
    "        \n",
    "        pca_trains.append(pca_train)\n",
    "        pca_tests.append(pca_test)\n",
    "    \n",
    "    # Loop through the data and calculate the KNN scores\n",
    "    pca_mses = []\n",
    "    for i in range(len(X_trains)):\n",
    "        pca_mse = knnmse(pca_trains[i], y_orig_trains[i], pca_tests[i], y_orig_tests[i])\n",
    "        \n",
    "        pca_mses.append(pca_mse)\n",
    "        test_mse.append(pca_mse[1])\n",
    "        train_mse.append(pca_mse[0])\n",
    "        \n",
    "    \n",
    "    \n",
    "    ### KernelPCA\n",
    "    \n",
    "    # Initialize kernel PCA\n",
    "    kpca = KernelPCA(n_components=2,kernel='rbf')\n",
    "    \n",
    "    # Fit and Transform three dataset\n",
    "    kpca_trains = []\n",
    "    kpca_tests = []\n",
    "    for i in range(len(X_trains)):\n",
    "        kpca_train = kpca.fit_transform(X_trains[i])\n",
    "        kpca_test = kpca.transform(X_tests[i])\n",
    "        \n",
    "        kpca_trains.append(kpca_train)\n",
    "        kpca_tests.append(kpca_test)\n",
    "    \n",
    "    # Loop through the data and calculate the KNN scores\n",
    "    kpca_mses = []\n",
    "    for i in range(len(X_trains)):\n",
    "        kpca_mse = knnmse(kpca_trains[i], y_orig_trains[i], kpca_tests[i], y_orig_tests[i])\n",
    "        \n",
    "        kpca_mses.append(kpca_mse)\n",
    "        test_mse.append(kpca_mse[1])\n",
    "        train_mse.append(kpca_mse[0])\n",
    "    \n",
    "    ### Sliced Inversed Regression\n",
    "    \n",
    "    # Initialize SIR\n",
    "    sir = SlicedInverseRegression(n_directions=2, n_slices=10)\n",
    "    \n",
    "    # Fit and Transform three dataset\n",
    "    sir_trains = []\n",
    "    sir_tests = []\n",
    "    for i in range(len(X_trains)):\n",
    "        sir_train = sir.fit_transform(np.array(X_trains[i]),y_orig_trains[i])\n",
    "        sir_test = sir.transform(np.array(X_tests[i]))\n",
    "        \n",
    "        sir_trains.append(sir_train)\n",
    "        sir_tests.append(sir_test)\n",
    "    \n",
    "    # Loop through the data and calculate the KNN scores\n",
    "    sir_mses = []\n",
    "    for i in range(len(X_trains)):\n",
    "        sir_mse = knnmse(sir_trains[i], y_orig_trains[i], sir_tests[i], y_orig_tests[i])\n",
    "        \n",
    "        sir_mses.append(sir_mse)\n",
    "        test_mse.append(sir_mse[1])\n",
    "        train_mse.append(sir_mse[0])\n",
    "    \n",
    "    ### Kernel Sliced Inversed Regression\n",
    "    # Initialize kernerl SIR\n",
    "    ksir = KernelSIR(num_components=2, n_slices=10, gamma=0.1)\n",
    "    \n",
    "    # Fit and Transform three dataset\n",
    "    ksir_trains = []\n",
    "    ksir_tests = []\n",
    "    for i in range(len(X_trains)):\n",
    "        ksir_train = ksir.fit_transform(np.array(X_trains[i]),y_orig_trains[i])\n",
    "        ksir_test = ksir.transform(np.array(X_tests[i]))\n",
    "        \n",
    "        ksir_trains.append(ksir_train)\n",
    "        ksir_tests.append(ksir_test)\n",
    "    \n",
    "    # Loop through the data and calculate the KNN scores\n",
    "    ksir_mses = []\n",
    "    for i in range(len(X_trains)):\n",
    "        ksir_mse = knnmse(ksir_trains[i], y_orig_trains[i], ksir_tests[i], y_orig_tests[i])\n",
    "        \n",
    "        ksir_mses.append(ksir_mse)\n",
    "        test_mse.append(ksir_mse[1])\n",
    "        train_mse.append(ksir_mse[0])\n",
    "    \n",
    "    ### t-Distributed Stochastic Neighbor Embedding (t-SNE)\n",
    "    \n",
    "    # Initialize tsne\n",
    "    tsne = TSNE(n_components=2)\n",
    "    ## TNSE doesn't have a seperate transform function, we use fit_transform for testing data.\n",
    "    ## Therefore the testing dataset fits its own model instead of useing the trainning model.\n",
    "    \n",
    "    # Fit and Transform three dataset\n",
    "    tsne_trains = []\n",
    "    tsne_tests = []\n",
    "    for i in range(len(X_trains)):\n",
    "        tsne_train = tsne.fit_transform(X_trains[i])\n",
    "        tsne_test = tsne.fit_transform(X_tests[i])\n",
    "        \n",
    "        tsne_trains.append(tsne_train)\n",
    "        tsne_tests.append(tsne_test)\n",
    "    \n",
    "    # Loop through the data and calculate the KNN scores\n",
    "    tsne_mses = []\n",
    "    for i in range(len(X_trains)):\n",
    "        tsne_mse = knnmse(tsne_trains[i], y_orig_trains[i], tsne_tests[i], y_orig_tests[i])\n",
    "        \n",
    "        tsne_mses.append(tsne_mse)\n",
    "        test_mse.append(tsne_mse[1])\n",
    "        train_mse.append(tsne_mse[0])\n",
    "    # print('Train', train_mse)\n",
    "    # print('Test', test_mse)\n",
    "    return train_mse, test_mse\n",
    "    "
   ]
  },
  {
   "cell_type": "code",
   "execution_count": 12,
   "id": "41760ae7-df76-4858-99fc-fe496127b6b5",
   "metadata": {},
   "outputs": [
    {
     "name": "stderr",
     "output_type": "stream",
     "text": [
      "/Users/guanzhezhang/anaconda3/lib/python3.11/site-packages/sklearn/manifold/_spectral_embedding.py:329: UserWarning: Graph is not fully connected, spectral embedding may not work as expected.\n",
      "  warnings.warn(\n"
     ]
    },
    {
     "name": "stdout",
     "output_type": "stream",
     "text": [
      "The 1th run\n"
     ]
    },
    {
     "name": "stderr",
     "output_type": "stream",
     "text": [
      "/Users/guanzhezhang/anaconda3/lib/python3.11/site-packages/sklearn/manifold/_spectral_embedding.py:329: UserWarning: Graph is not fully connected, spectral embedding may not work as expected.\n",
      "  warnings.warn(\n"
     ]
    },
    {
     "name": "stdout",
     "output_type": "stream",
     "text": [
      "The 2th run\n",
      "The 3th run\n",
      "The 4th run\n",
      "The 5th run\n"
     ]
    },
    {
     "name": "stderr",
     "output_type": "stream",
     "text": [
      "/Users/guanzhezhang/anaconda3/lib/python3.11/site-packages/sklearn/manifold/_spectral_embedding.py:329: UserWarning: Graph is not fully connected, spectral embedding may not work as expected.\n",
      "  warnings.warn(\n"
     ]
    },
    {
     "name": "stdout",
     "output_type": "stream",
     "text": [
      "The 6th run\n"
     ]
    },
    {
     "name": "stderr",
     "output_type": "stream",
     "text": [
      "/Users/guanzhezhang/anaconda3/lib/python3.11/site-packages/sklearn/manifold/_spectral_embedding.py:329: UserWarning: Graph is not fully connected, spectral embedding may not work as expected.\n",
      "  warnings.warn(\n"
     ]
    },
    {
     "name": "stdout",
     "output_type": "stream",
     "text": [
      "The 7th run\n"
     ]
    },
    {
     "name": "stderr",
     "output_type": "stream",
     "text": [
      "/Users/guanzhezhang/anaconda3/lib/python3.11/site-packages/sklearn/manifold/_spectral_embedding.py:329: UserWarning: Graph is not fully connected, spectral embedding may not work as expected.\n",
      "  warnings.warn(\n"
     ]
    },
    {
     "name": "stdout",
     "output_type": "stream",
     "text": [
      "The 8th run\n"
     ]
    },
    {
     "name": "stderr",
     "output_type": "stream",
     "text": [
      "/Users/guanzhezhang/anaconda3/lib/python3.11/site-packages/sklearn/manifold/_spectral_embedding.py:329: UserWarning: Graph is not fully connected, spectral embedding may not work as expected.\n",
      "  warnings.warn(\n"
     ]
    },
    {
     "name": "stdout",
     "output_type": "stream",
     "text": [
      "The 9th run\n"
     ]
    },
    {
     "name": "stderr",
     "output_type": "stream",
     "text": [
      "/Users/guanzhezhang/anaconda3/lib/python3.11/site-packages/sklearn/manifold/_spectral_embedding.py:329: UserWarning: Graph is not fully connected, spectral embedding may not work as expected.\n",
      "  warnings.warn(\n"
     ]
    },
    {
     "name": "stdout",
     "output_type": "stream",
     "text": [
      "The 10th run\n"
     ]
    },
    {
     "name": "stderr",
     "output_type": "stream",
     "text": [
      "/Users/guanzhezhang/anaconda3/lib/python3.11/site-packages/sklearn/manifold/_spectral_embedding.py:329: UserWarning: Graph is not fully connected, spectral embedding may not work as expected.\n",
      "  warnings.warn(\n"
     ]
    },
    {
     "name": "stdout",
     "output_type": "stream",
     "text": [
      "The 11th run\n"
     ]
    },
    {
     "name": "stderr",
     "output_type": "stream",
     "text": [
      "/Users/guanzhezhang/anaconda3/lib/python3.11/site-packages/sklearn/manifold/_spectral_embedding.py:329: UserWarning: Graph is not fully connected, spectral embedding may not work as expected.\n",
      "  warnings.warn(\n"
     ]
    },
    {
     "name": "stdout",
     "output_type": "stream",
     "text": [
      "The 12th run\n"
     ]
    },
    {
     "name": "stderr",
     "output_type": "stream",
     "text": [
      "/Users/guanzhezhang/anaconda3/lib/python3.11/site-packages/sklearn/manifold/_spectral_embedding.py:329: UserWarning: Graph is not fully connected, spectral embedding may not work as expected.\n",
      "  warnings.warn(\n"
     ]
    },
    {
     "name": "stdout",
     "output_type": "stream",
     "text": [
      "The 13th run\n",
      "The 14th run\n",
      "The 15th run\n",
      "The 16th run\n",
      "The 17th run\n"
     ]
    },
    {
     "name": "stderr",
     "output_type": "stream",
     "text": [
      "/Users/guanzhezhang/anaconda3/lib/python3.11/site-packages/sklearn/manifold/_spectral_embedding.py:329: UserWarning: Graph is not fully connected, spectral embedding may not work as expected.\n",
      "  warnings.warn(\n"
     ]
    },
    {
     "name": "stdout",
     "output_type": "stream",
     "text": [
      "The 18th run\n",
      "The 19th run\n"
     ]
    },
    {
     "name": "stderr",
     "output_type": "stream",
     "text": [
      "/Users/guanzhezhang/anaconda3/lib/python3.11/site-packages/sklearn/manifold/_spectral_embedding.py:329: UserWarning: Graph is not fully connected, spectral embedding may not work as expected.\n",
      "  warnings.warn(\n"
     ]
    },
    {
     "name": "stdout",
     "output_type": "stream",
     "text": [
      "The 20th run\n",
      "The 21th run\n"
     ]
    },
    {
     "name": "stderr",
     "output_type": "stream",
     "text": [
      "/Users/guanzhezhang/anaconda3/lib/python3.11/site-packages/sklearn/manifold/_spectral_embedding.py:329: UserWarning: Graph is not fully connected, spectral embedding may not work as expected.\n",
      "  warnings.warn(\n"
     ]
    },
    {
     "name": "stdout",
     "output_type": "stream",
     "text": [
      "The 22th run\n",
      "The 23th run\n"
     ]
    },
    {
     "name": "stderr",
     "output_type": "stream",
     "text": [
      "/Users/guanzhezhang/anaconda3/lib/python3.11/site-packages/sklearn/manifold/_spectral_embedding.py:329: UserWarning: Graph is not fully connected, spectral embedding may not work as expected.\n",
      "  warnings.warn(\n"
     ]
    },
    {
     "name": "stdout",
     "output_type": "stream",
     "text": [
      "The 24th run\n",
      "The 25th run\n",
      "The 26th run\n",
      "The 27th run\n",
      "The 28th run\n",
      "The 29th run\n",
      "The 30th run\n",
      "The 31th run\n",
      "The 32th run\n",
      "The 33th run\n"
     ]
    },
    {
     "name": "stderr",
     "output_type": "stream",
     "text": [
      "/Users/guanzhezhang/anaconda3/lib/python3.11/site-packages/sklearn/manifold/_spectral_embedding.py:329: UserWarning: Graph is not fully connected, spectral embedding may not work as expected.\n",
      "  warnings.warn(\n"
     ]
    },
    {
     "name": "stdout",
     "output_type": "stream",
     "text": [
      "The 34th run\n",
      "The 35th run\n",
      "The 36th run\n"
     ]
    },
    {
     "name": "stderr",
     "output_type": "stream",
     "text": [
      "/Users/guanzhezhang/anaconda3/lib/python3.11/site-packages/sklearn/manifold/_spectral_embedding.py:329: UserWarning: Graph is not fully connected, spectral embedding may not work as expected.\n",
      "  warnings.warn(\n"
     ]
    },
    {
     "name": "stdout",
     "output_type": "stream",
     "text": [
      "The 37th run\n"
     ]
    },
    {
     "name": "stderr",
     "output_type": "stream",
     "text": [
      "/Users/guanzhezhang/anaconda3/lib/python3.11/site-packages/sklearn/manifold/_spectral_embedding.py:329: UserWarning: Graph is not fully connected, spectral embedding may not work as expected.\n",
      "  warnings.warn(\n"
     ]
    },
    {
     "name": "stdout",
     "output_type": "stream",
     "text": [
      "The 38th run\n"
     ]
    },
    {
     "name": "stderr",
     "output_type": "stream",
     "text": [
      "/Users/guanzhezhang/anaconda3/lib/python3.11/site-packages/sklearn/manifold/_spectral_embedding.py:329: UserWarning: Graph is not fully connected, spectral embedding may not work as expected.\n",
      "  warnings.warn(\n"
     ]
    },
    {
     "name": "stdout",
     "output_type": "stream",
     "text": [
      "The 39th run\n",
      "The 40th run\n"
     ]
    },
    {
     "name": "stderr",
     "output_type": "stream",
     "text": [
      "/Users/guanzhezhang/anaconda3/lib/python3.11/site-packages/sklearn/manifold/_spectral_embedding.py:329: UserWarning: Graph is not fully connected, spectral embedding may not work as expected.\n",
      "  warnings.warn(\n"
     ]
    },
    {
     "name": "stdout",
     "output_type": "stream",
     "text": [
      "The 41th run\n"
     ]
    },
    {
     "name": "stderr",
     "output_type": "stream",
     "text": [
      "/Users/guanzhezhang/anaconda3/lib/python3.11/site-packages/sklearn/manifold/_spectral_embedding.py:329: UserWarning: Graph is not fully connected, spectral embedding may not work as expected.\n",
      "  warnings.warn(\n"
     ]
    },
    {
     "name": "stdout",
     "output_type": "stream",
     "text": [
      "The 42th run\n"
     ]
    },
    {
     "name": "stderr",
     "output_type": "stream",
     "text": [
      "/Users/guanzhezhang/anaconda3/lib/python3.11/site-packages/sklearn/manifold/_spectral_embedding.py:329: UserWarning: Graph is not fully connected, spectral embedding may not work as expected.\n",
      "  warnings.warn(\n",
      "/Users/guanzhezhang/anaconda3/lib/python3.11/site-packages/sklearn/manifold/_spectral_embedding.py:329: UserWarning: Graph is not fully connected, spectral embedding may not work as expected.\n",
      "  warnings.warn(\n"
     ]
    },
    {
     "name": "stdout",
     "output_type": "stream",
     "text": [
      "The 43th run\n",
      "The 44th run\n"
     ]
    },
    {
     "name": "stderr",
     "output_type": "stream",
     "text": [
      "/Users/guanzhezhang/anaconda3/lib/python3.11/site-packages/sklearn/manifold/_spectral_embedding.py:329: UserWarning: Graph is not fully connected, spectral embedding may not work as expected.\n",
      "  warnings.warn(\n"
     ]
    },
    {
     "name": "stdout",
     "output_type": "stream",
     "text": [
      "The 45th run\n",
      "The 46th run\n"
     ]
    },
    {
     "name": "stderr",
     "output_type": "stream",
     "text": [
      "/Users/guanzhezhang/anaconda3/lib/python3.11/site-packages/sklearn/manifold/_spectral_embedding.py:329: UserWarning: Graph is not fully connected, spectral embedding may not work as expected.\n",
      "  warnings.warn(\n"
     ]
    },
    {
     "name": "stdout",
     "output_type": "stream",
     "text": [
      "The 47th run\n"
     ]
    },
    {
     "name": "stderr",
     "output_type": "stream",
     "text": [
      "/Users/guanzhezhang/anaconda3/lib/python3.11/site-packages/sklearn/manifold/_spectral_embedding.py:329: UserWarning: Graph is not fully connected, spectral embedding may not work as expected.\n",
      "  warnings.warn(\n"
     ]
    },
    {
     "name": "stdout",
     "output_type": "stream",
     "text": [
      "The 48th run\n",
      "The 49th run\n"
     ]
    },
    {
     "name": "stderr",
     "output_type": "stream",
     "text": [
      "/Users/guanzhezhang/anaconda3/lib/python3.11/site-packages/sklearn/manifold/_spectral_embedding.py:329: UserWarning: Graph is not fully connected, spectral embedding may not work as expected.\n",
      "  warnings.warn(\n"
     ]
    },
    {
     "name": "stdout",
     "output_type": "stream",
     "text": [
      "The 50th run\n",
      "The 51th run\n"
     ]
    },
    {
     "name": "stderr",
     "output_type": "stream",
     "text": [
      "/Users/guanzhezhang/anaconda3/lib/python3.11/site-packages/sklearn/manifold/_spectral_embedding.py:329: UserWarning: Graph is not fully connected, spectral embedding may not work as expected.\n",
      "  warnings.warn(\n"
     ]
    },
    {
     "name": "stdout",
     "output_type": "stream",
     "text": [
      "The 52th run\n",
      "The 53th run\n",
      "The 54th run\n"
     ]
    },
    {
     "name": "stderr",
     "output_type": "stream",
     "text": [
      "/Users/guanzhezhang/anaconda3/lib/python3.11/site-packages/sklearn/manifold/_spectral_embedding.py:329: UserWarning: Graph is not fully connected, spectral embedding may not work as expected.\n",
      "  warnings.warn(\n"
     ]
    },
    {
     "name": "stdout",
     "output_type": "stream",
     "text": [
      "The 55th run\n",
      "The 56th run\n",
      "The 57th run\n"
     ]
    },
    {
     "name": "stderr",
     "output_type": "stream",
     "text": [
      "/Users/guanzhezhang/anaconda3/lib/python3.11/site-packages/sklearn/manifold/_spectral_embedding.py:329: UserWarning: Graph is not fully connected, spectral embedding may not work as expected.\n",
      "  warnings.warn(\n"
     ]
    },
    {
     "name": "stdout",
     "output_type": "stream",
     "text": [
      "The 58th run\n",
      "The 59th run\n",
      "The 60th run\n",
      "The 61th run\n",
      "The 62th run\n",
      "The 63th run\n",
      "The 64th run\n"
     ]
    },
    {
     "name": "stderr",
     "output_type": "stream",
     "text": [
      "/Users/guanzhezhang/anaconda3/lib/python3.11/site-packages/sklearn/manifold/_spectral_embedding.py:329: UserWarning: Graph is not fully connected, spectral embedding may not work as expected.\n",
      "  warnings.warn(\n"
     ]
    },
    {
     "name": "stdout",
     "output_type": "stream",
     "text": [
      "The 65th run\n"
     ]
    },
    {
     "name": "stderr",
     "output_type": "stream",
     "text": [
      "/Users/guanzhezhang/anaconda3/lib/python3.11/site-packages/sklearn/manifold/_spectral_embedding.py:329: UserWarning: Graph is not fully connected, spectral embedding may not work as expected.\n",
      "  warnings.warn(\n"
     ]
    },
    {
     "name": "stdout",
     "output_type": "stream",
     "text": [
      "The 66th run\n"
     ]
    },
    {
     "name": "stderr",
     "output_type": "stream",
     "text": [
      "/Users/guanzhezhang/anaconda3/lib/python3.11/site-packages/sklearn/manifold/_spectral_embedding.py:329: UserWarning: Graph is not fully connected, spectral embedding may not work as expected.\n",
      "  warnings.warn(\n"
     ]
    },
    {
     "name": "stdout",
     "output_type": "stream",
     "text": [
      "The 67th run\n"
     ]
    },
    {
     "name": "stderr",
     "output_type": "stream",
     "text": [
      "/Users/guanzhezhang/anaconda3/lib/python3.11/site-packages/sklearn/manifold/_spectral_embedding.py:329: UserWarning: Graph is not fully connected, spectral embedding may not work as expected.\n",
      "  warnings.warn(\n"
     ]
    },
    {
     "name": "stdout",
     "output_type": "stream",
     "text": [
      "The 68th run\n",
      "The 69th run\n",
      "The 70th run\n"
     ]
    },
    {
     "name": "stderr",
     "output_type": "stream",
     "text": [
      "/Users/guanzhezhang/anaconda3/lib/python3.11/site-packages/sklearn/manifold/_spectral_embedding.py:329: UserWarning: Graph is not fully connected, spectral embedding may not work as expected.\n",
      "  warnings.warn(\n"
     ]
    },
    {
     "name": "stdout",
     "output_type": "stream",
     "text": [
      "The 71th run\n",
      "The 72th run\n",
      "The 73th run\n",
      "The 74th run\n"
     ]
    },
    {
     "name": "stderr",
     "output_type": "stream",
     "text": [
      "/Users/guanzhezhang/anaconda3/lib/python3.11/site-packages/sklearn/manifold/_spectral_embedding.py:329: UserWarning: Graph is not fully connected, spectral embedding may not work as expected.\n",
      "  warnings.warn(\n"
     ]
    },
    {
     "name": "stdout",
     "output_type": "stream",
     "text": [
      "The 75th run\n",
      "The 76th run\n"
     ]
    },
    {
     "name": "stderr",
     "output_type": "stream",
     "text": [
      "/Users/guanzhezhang/anaconda3/lib/python3.11/site-packages/sklearn/manifold/_spectral_embedding.py:329: UserWarning: Graph is not fully connected, spectral embedding may not work as expected.\n",
      "  warnings.warn(\n"
     ]
    },
    {
     "name": "stdout",
     "output_type": "stream",
     "text": [
      "The 77th run\n",
      "The 78th run\n",
      "The 79th run\n"
     ]
    },
    {
     "name": "stderr",
     "output_type": "stream",
     "text": [
      "/Users/guanzhezhang/anaconda3/lib/python3.11/site-packages/sklearn/manifold/_spectral_embedding.py:329: UserWarning: Graph is not fully connected, spectral embedding may not work as expected.\n",
      "  warnings.warn(\n"
     ]
    },
    {
     "name": "stdout",
     "output_type": "stream",
     "text": [
      "The 80th run\n"
     ]
    },
    {
     "name": "stderr",
     "output_type": "stream",
     "text": [
      "/Users/guanzhezhang/anaconda3/lib/python3.11/site-packages/sklearn/manifold/_spectral_embedding.py:329: UserWarning: Graph is not fully connected, spectral embedding may not work as expected.\n",
      "  warnings.warn(\n"
     ]
    },
    {
     "name": "stdout",
     "output_type": "stream",
     "text": [
      "The 81th run\n",
      "The 82th run\n"
     ]
    },
    {
     "name": "stderr",
     "output_type": "stream",
     "text": [
      "/Users/guanzhezhang/anaconda3/lib/python3.11/site-packages/sklearn/manifold/_spectral_embedding.py:329: UserWarning: Graph is not fully connected, spectral embedding may not work as expected.\n",
      "  warnings.warn(\n"
     ]
    },
    {
     "name": "stdout",
     "output_type": "stream",
     "text": [
      "The 83th run\n"
     ]
    },
    {
     "name": "stderr",
     "output_type": "stream",
     "text": [
      "/Users/guanzhezhang/anaconda3/lib/python3.11/site-packages/sklearn/manifold/_spectral_embedding.py:329: UserWarning: Graph is not fully connected, spectral embedding may not work as expected.\n",
      "  warnings.warn(\n",
      "/Users/guanzhezhang/anaconda3/lib/python3.11/site-packages/sklearn/manifold/_spectral_embedding.py:329: UserWarning: Graph is not fully connected, spectral embedding may not work as expected.\n",
      "  warnings.warn(\n"
     ]
    },
    {
     "name": "stdout",
     "output_type": "stream",
     "text": [
      "The 84th run\n",
      "The 85th run\n",
      "The 86th run\n",
      "The 87th run\n"
     ]
    },
    {
     "name": "stderr",
     "output_type": "stream",
     "text": [
      "/Users/guanzhezhang/anaconda3/lib/python3.11/site-packages/sklearn/manifold/_spectral_embedding.py:329: UserWarning: Graph is not fully connected, spectral embedding may not work as expected.\n",
      "  warnings.warn(\n"
     ]
    },
    {
     "name": "stdout",
     "output_type": "stream",
     "text": [
      "The 88th run\n",
      "The 89th run\n"
     ]
    },
    {
     "name": "stderr",
     "output_type": "stream",
     "text": [
      "/Users/guanzhezhang/anaconda3/lib/python3.11/site-packages/sklearn/manifold/_spectral_embedding.py:329: UserWarning: Graph is not fully connected, spectral embedding may not work as expected.\n",
      "  warnings.warn(\n"
     ]
    },
    {
     "name": "stdout",
     "output_type": "stream",
     "text": [
      "The 90th run\n",
      "The 91th run\n",
      "The 92th run\n",
      "The 93th run\n"
     ]
    },
    {
     "name": "stderr",
     "output_type": "stream",
     "text": [
      "/Users/guanzhezhang/anaconda3/lib/python3.11/site-packages/sklearn/manifold/_spectral_embedding.py:329: UserWarning: Graph is not fully connected, spectral embedding may not work as expected.\n",
      "  warnings.warn(\n"
     ]
    },
    {
     "name": "stdout",
     "output_type": "stream",
     "text": [
      "The 94th run\n",
      "The 95th run\n",
      "The 96th run\n"
     ]
    },
    {
     "name": "stderr",
     "output_type": "stream",
     "text": [
      "/Users/guanzhezhang/anaconda3/lib/python3.11/site-packages/sklearn/manifold/_spectral_embedding.py:329: UserWarning: Graph is not fully connected, spectral embedding may not work as expected.\n",
      "  warnings.warn(\n"
     ]
    },
    {
     "name": "stdout",
     "output_type": "stream",
     "text": [
      "The 97th run\n",
      "The 98th run\n",
      "The 99th run\n",
      "The 100th run\n",
      "Elapsed_time 9054.480657815933\n"
     ]
    }
   ],
   "source": [
    "# Set a timer\n",
    "import time\n",
    "train_mses = []\n",
    "test_mses = []\n",
    "start_time = time.time()\n",
    "for i in range(100):\n",
    "    train_mse,test_mse = run_models()\n",
    "    train_mses.append(train_mse)\n",
    "    test_mses.append(test_mse)\n",
    "    print(f'The {i+1}th run')\n",
    "end_time = time.time()\n",
    "elapsed_time = end_time - start_time\n",
    "print('Elapsed_time',elapsed_time)"
   ]
  },
  {
   "cell_type": "code",
   "execution_count": 13,
   "id": "ddfe8c16-1265-4759-92c4-feb71e5e61cb",
   "metadata": {},
   "outputs": [],
   "source": [
    "np.savetxt('output/0105/100-time array test_mses 0105.csv', test_mses, delimiter=',', fmt='%.4f')\n",
    "np.savetxt('output/0105/100-time array train_mses 0105.csv', train_mses, delimiter=',', fmt='%.4f')"
   ]
  },
  {
   "cell_type": "code",
   "execution_count": 14,
   "id": "d898d695-8ea0-4177-9de1-b10a1745976c",
   "metadata": {},
   "outputs": [],
   "source": [
    "train_mses = np.array(train_mses)\n",
    "test_mses = np.array(test_mses)\n",
    "\n",
    "Average_train_mses = train_mses.mean(axis=0)\n",
    "Average_test_mses = test_mses.mean(axis=0)\n",
    "\n",
    "n_rows = test_mses.shape[0]\n",
    "std_dev_test = np.std(test_mses, axis=0, ddof=1)\n",
    "std_err_test = std_dev_test / np.sqrt(n_rows)\n",
    "\n",
    "Table_test_mses = Average_test_mses.reshape(10,9).T\n",
    "Table_train_mses = Average_train_mses.reshape(10,9).T\n",
    "Table_test_se = std_err_test.reshape(10,9).T\n"
   ]
  },
  {
   "cell_type": "markdown",
   "id": "34eb4095",
   "metadata": {},
   "source": [
    "### Create a table of scores"
   ]
  },
  {
   "cell_type": "code",
   "execution_count": 16,
   "id": "8feed662-6ab6-4b7a-a45f-f472c62038d6",
   "metadata": {},
   "outputs": [
    {
     "data": {
      "text/plain": [
       "array([0.0261733 , 0.02697138, 0.00692483, 0.04273269, 0.05180093,\n",
       "       0.0055587 , 0.01997627, 0.02319174, 0.00541449, 0.02974962,\n",
       "       0.03479237, 0.00702568, 0.05191154, 0.07683292, 0.00687216,\n",
       "       0.02515231, 0.03102818, 0.00646066, 0.02704758, 0.03441066,\n",
       "       0.00785357, 0.04802267, 0.06383413, 0.00605892, 0.02007942,\n",
       "       0.02817761, 0.00515799, 0.0818054 , 0.10858463, 0.02095495,\n",
       "       0.14573149, 0.74675597, 0.02430234, 0.12937571, 0.2514307 ,\n",
       "       0.01883907, 0.02493829, 0.03146327, 0.0063416 , 0.04469334,\n",
       "       0.25515642, 0.00721431, 0.06654875, 0.16563229, 0.01883907,\n",
       "       0.02343938, 0.03267823, 0.00650063, 0.04223524, 0.05489774,\n",
       "       0.00535898, 0.01916085, 0.02630732, 0.00490315, 0.02627244,\n",
       "       0.03419208, 0.00680703, 0.04688133, 0.06121374, 0.00589365,\n",
       "       0.02003472, 0.02861412, 0.00445448, 0.02605012, 0.02010322,\n",
       "       0.00738973, 0.04608339, 0.04382762, 0.00563211, 0.02038281,\n",
       "       0.02660563, 0.00567356, 0.0337465 , 0.03884923, 0.00776873,\n",
       "       0.06253471, 0.24094298, 0.00852074, 0.07657028, 0.20535397,\n",
       "       0.00742885, 0.02283506, 0.03098202, 0.00598103, 0.10832913,\n",
       "       4.43426637, 0.01251968, 0.16509853, 1.34750956, 0.01282373])"
      ]
     },
     "execution_count": 16,
     "metadata": {},
     "output_type": "execute_result"
    }
   ],
   "source": [
    "std_err_test"
   ]
  },
  {
   "cell_type": "code",
   "execution_count": 25,
   "id": "b4691abe-c761-4406-aa29-a5c147b3f088",
   "metadata": {},
   "outputs": [],
   "source": [
    "# Define the columns with MultiIndex\n",
    "columns = ['Orig',\n",
    "           'Sli_UMAP_Sup',\n",
    "           'Cate_UMAP_Sup',\n",
    "           'cont_UMAP_Sup',\n",
    "           'Unsup_UMAP',\n",
    "           'PCA',\n",
    "           'KPCA',\n",
    "           'SIR',\n",
    "           'KSIR',\n",
    "           't-SNE'\n",
    "          ]\n",
    "\n",
    "# Make an index\n",
    "index = ['Data_a1','Data_a2','Data_a3',\n",
    "        'Data_b1','Data_b2','Data_b3',\n",
    "        'Data_c1','Data_c2','Data_c3'\n",
    "        ]\n",
    "# Create the DataFrame with the specified MultiIndex columns\n",
    "TestTable = pd.DataFrame(Table_test_mses, columns=columns,index=index).round(4).add_prefix('MSE_')\n",
    "Test_SE_Table = pd.DataFrame(Table_test_se, columns=columns,index=index).round(4).add_prefix('SE_')\n",
    "TrainTable = pd.DataFrame(Table_train_mses, columns=columns,index=index).round(4)\n",
    "\n",
    "combined_col = []\n",
    "for col_mse, col_se in zip(TestTable.columns, Test_SE_Table.columns):\n",
    "    combined_col.extend([col_mse, col_se])\n",
    "\n",
    "TestCombined = pd.concat([TestTable, Test_SE_Table],axis=1)[combined_col]"
   ]
  },
  {
   "cell_type": "code",
   "execution_count": 27,
   "id": "16c3c50e-71be-4b4f-9c68-2b7ca1535765",
   "metadata": {},
   "outputs": [],
   "source": [
    "TrainTable.to_csv('output/0105/100Aver_train0105.csv', index=True)\n",
    "\n",
    "TestTable.to_csv('output/0105/100Aver_test0105.csv', index=True)\n",
    "\n",
    "TestCombined.to_csv('output/0105/100TestCombinedSE0105.csv', index=True)\n",
    "\n",
    "Test_SE_Table.to_csv('output/0105/100TestSE0105.csv', index=True)"
   ]
  },
  {
   "cell_type": "code",
   "execution_count": 25,
   "id": "6cc9ff86-8377-4bfb-a9a9-db943aa0ddfe",
   "metadata": {},
   "outputs": [
    {
     "data": {
      "text/plain": [
       "(100, 90)"
      ]
     },
     "execution_count": 25,
     "metadata": {},
     "output_type": "execute_result"
    }
   ],
   "source": [
    "test_mses.shape"
   ]
  }
 ],
 "metadata": {
  "kernelspec": {
   "display_name": "Python 3 (ipykernel)",
   "language": "python",
   "name": "python3"
  },
  "language_info": {
   "codemirror_mode": {
    "name": "ipython",
    "version": 3
   },
   "file_extension": ".py",
   "mimetype": "text/x-python",
   "name": "python",
   "nbconvert_exporter": "python",
   "pygments_lexer": "ipython3",
   "version": "3.11.9"
  }
 },
 "nbformat": 4,
 "nbformat_minor": 5
}
